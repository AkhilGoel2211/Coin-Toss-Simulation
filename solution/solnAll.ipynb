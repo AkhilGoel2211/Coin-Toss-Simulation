{
 "cells": [
  {
   "cell_type": "code",
   "execution_count": 27,
   "metadata": {},
   "outputs": [
    {
     "name": "stdout",
     "output_type": "stream",
     "text": [
      "3.5\n",
      "12.875\n",
      "0.625\n"
     ]
    }
   ],
   "source": [
    "import math\n",
    "from decimal import Decimal\n",
    "\n",
    "money_initial = Decimal(1.0)\n",
    "expected_money = Decimal(0.0)\n",
    "expected_money2 = Decimal(0.0)\n",
    "variance_money = 0.0\n",
    "n = 10\n",
    "heads = 1.0\n",
    "tails = -0.5\n",
    "\n",
    "for i in range(n+1):\n",
    "    expected_money += ((Decimal(math.comb(n,i)))*(Decimal(i*heads + (n-i)*tails)))\n",
    "    expected_money2 += ((Decimal(math.comb(n,i)))*(Decimal(pow((i*heads + (n-i)*tails), 2))))\n",
    "\n",
    "expected_money = money_initial + expected_money/pow(2,n)\n",
    "print(expected_money)\n",
    "\n",
    "expected_money2 = money_initial + expected_money2/pow(2,n)\n",
    "print(expected_money2)\n",
    "\n",
    "variance_money = expected_money2 - pow(expected_money,2)\n",
    "print(variance_money)"
   ]
  },
  {
   "cell_type": "code",
   "execution_count": 28,
   "metadata": {},
   "outputs": [
    {
     "name": "stdout",
     "output_type": "stream",
     "text": [
      "6.0\n",
      "37.25\n",
      "1.25\n"
     ]
    }
   ],
   "source": [
    "import math\n",
    "from decimal import Decimal\n",
    "\n",
    "money_initial = Decimal(1.0)\n",
    "expected_money = Decimal(0.0)\n",
    "expected_money2 = Decimal(0.0)\n",
    "variance_money = 0.0\n",
    "n = 20\n",
    "heads = 1.0\n",
    "tails = -0.5\n",
    "\n",
    "for i in range(n+1):\n",
    "    expected_money += ((Decimal(math.comb(n,i)))*(Decimal(i*heads + (n-i)*tails)))\n",
    "    expected_money2 += ((Decimal(math.comb(n,i)))*(Decimal(pow((i*heads + (n-i)*tails), 2))))\n",
    "\n",
    "expected_money = money_initial + expected_money/pow(2,n)\n",
    "print(expected_money)\n",
    "\n",
    "expected_money2 = money_initial + expected_money2/pow(2,n)\n",
    "print(expected_money2)\n",
    "\n",
    "variance_money = expected_money2 - pow(expected_money,2)\n",
    "print(variance_money)"
   ]
  },
  {
   "cell_type": "code",
   "execution_count": 29,
   "metadata": {},
   "outputs": [
    {
     "name": "stdout",
     "output_type": "stream",
     "text": [
      "101.0000000000000000000000001\n",
      "10225.99999999999999999999999\n",
      "24.99999999999999999999997\n"
     ]
    }
   ],
   "source": [
    "import math\n",
    "from decimal import Decimal\n",
    "\n",
    "money_initial = Decimal(1.0)\n",
    "expected_money = Decimal(0.0)\n",
    "expected_money2 = Decimal(0.0)\n",
    "variance_money = 0.0\n",
    "n = 400\n",
    "heads = 1.0\n",
    "tails = -0.5\n",
    "\n",
    "for i in range(n+1):\n",
    "    expected_money += ((Decimal(math.comb(n,i)))*(Decimal(i*heads + (n-i)*tails)))\n",
    "    expected_money2 += ((Decimal(math.comb(n,i)))*(Decimal(pow((i*heads + (n-i)*tails), 2))))\n",
    "\n",
    "expected_money = money_initial + expected_money/pow(2,n)\n",
    "print(expected_money)\n",
    "\n",
    "expected_money2 = money_initial + expected_money2/pow(2,n)\n",
    "print(expected_money2)\n",
    "\n",
    "variance_money = expected_money2 - pow(expected_money,2)\n",
    "print(variance_money)"
   ]
  },
  {
   "cell_type": "code",
   "execution_count": 30,
   "metadata": {},
   "outputs": [
    {
     "name": "stdout",
     "output_type": "stream",
     "text": [
      "250.9999999999999999999999998\n",
      "63063.49999999999999999999996\n",
      "62.50000000000000000000006\n"
     ]
    }
   ],
   "source": [
    "import math\n",
    "from decimal import Decimal\n",
    "\n",
    "money_initial = Decimal(1.0)\n",
    "expected_money = Decimal(0.0)\n",
    "expected_money2 = Decimal(0.0)\n",
    "variance_money = 0.0\n",
    "n = 1000\n",
    "heads = 1.0\n",
    "tails = -0.5\n",
    "\n",
    "for i in range(n+1):\n",
    "    expected_money += ((Decimal(math.comb(n,i)))*(Decimal(i*heads + (n-i)*tails)))\n",
    "    expected_money2 += ((Decimal(math.comb(n,i)))*(Decimal(pow((i*heads + (n-i)*tails), 2))))\n",
    "\n",
    "expected_money = money_initial + expected_money/pow(2,n)\n",
    "print(expected_money)\n",
    "\n",
    "expected_money2 = money_initial + expected_money2/pow(2,n)\n",
    "print(expected_money2)\n",
    "\n",
    "variance_money = expected_money2 - pow(expected_money,2)\n",
    "print(variance_money)"
   ]
  },
  {
   "cell_type": "code",
   "execution_count": 31,
   "metadata": {},
   "outputs": [
    {
     "name": "stdout",
     "output_type": "stream",
     "text": [
      "2500.999999999999999999999999\n",
      "6255625.999999999999999999962\n",
      "624.999999999999999999967\n"
     ]
    }
   ],
   "source": [
    "import math\n",
    "from decimal import Decimal\n",
    "\n",
    "money_initial = Decimal(1.0)\n",
    "expected_money = Decimal(0.0)\n",
    "expected_money2 = Decimal(0.0)\n",
    "variance_money = 0.0\n",
    "n = 10000\n",
    "heads = 1.0\n",
    "tails = -0.5\n",
    "\n",
    "for i in range(n+1):\n",
    "    expected_money += ((Decimal(math.comb(n,i)))*(Decimal(i*heads + (n-i)*tails)))\n",
    "    expected_money2 += ((Decimal(math.comb(n,i)))*(Decimal(pow((i*heads + (n-i)*tails), 2))))\n",
    "\n",
    "expected_money = money_initial + expected_money/pow(2,n)\n",
    "print(expected_money)\n",
    "\n",
    "expected_money2 = money_initial + expected_money2/pow(2,n)\n",
    "print(expected_money2)\n",
    "\n",
    "variance_money = expected_money2 - pow(expected_money,2)\n",
    "print(variance_money)"
   ]
  },
  {
   "cell_type": "code",
   "execution_count": 32,
   "metadata": {},
   "outputs": [
    {
     "ename": "KeyboardInterrupt",
     "evalue": "",
     "output_type": "error",
     "traceback": [
      "\u001b[0;31m---------------------------------------------------------------------------\u001b[0m",
      "\u001b[0;31mKeyboardInterrupt\u001b[0m                         Traceback (most recent call last)",
      "\u001b[1;32m/Users/akhilgoel/Desktop/WSC Recruitment/Q1/solution/solnAll.ipynb Cell 6\u001b[0m in \u001b[0;36m<cell line: 12>\u001b[0;34m()\u001b[0m\n\u001b[1;32m     <a href='vscode-notebook-cell:/Users/akhilgoel/Desktop/WSC%20Recruitment/Q1/solution/solnAll.ipynb#W5sZmlsZQ%3D%3D?line=9'>10</a>\u001b[0m tails \u001b[39m=\u001b[39m \u001b[39m-\u001b[39m\u001b[39m0.5\u001b[39m\n\u001b[1;32m     <a href='vscode-notebook-cell:/Users/akhilgoel/Desktop/WSC%20Recruitment/Q1/solution/solnAll.ipynb#W5sZmlsZQ%3D%3D?line=11'>12</a>\u001b[0m \u001b[39mfor\u001b[39;00m i \u001b[39min\u001b[39;00m \u001b[39mrange\u001b[39m(n\u001b[39m+\u001b[39m\u001b[39m1\u001b[39m):\n\u001b[0;32m---> <a href='vscode-notebook-cell:/Users/akhilgoel/Desktop/WSC%20Recruitment/Q1/solution/solnAll.ipynb#W5sZmlsZQ%3D%3D?line=12'>13</a>\u001b[0m     expected_money \u001b[39m+\u001b[39m\u001b[39m=\u001b[39m ((Decimal(math\u001b[39m.\u001b[39;49mcomb(n,i)))\u001b[39m*\u001b[39m(Decimal(i\u001b[39m*\u001b[39mheads \u001b[39m+\u001b[39m (n\u001b[39m-\u001b[39mi)\u001b[39m*\u001b[39mtails)))\n\u001b[1;32m     <a href='vscode-notebook-cell:/Users/akhilgoel/Desktop/WSC%20Recruitment/Q1/solution/solnAll.ipynb#W5sZmlsZQ%3D%3D?line=13'>14</a>\u001b[0m     expected_money2 \u001b[39m+\u001b[39m\u001b[39m=\u001b[39m ((Decimal(math\u001b[39m.\u001b[39mcomb(n,i)))\u001b[39m*\u001b[39m(Decimal(\u001b[39mpow\u001b[39m((i\u001b[39m*\u001b[39mheads \u001b[39m+\u001b[39m (n\u001b[39m-\u001b[39mi)\u001b[39m*\u001b[39mtails), \u001b[39m2\u001b[39m))))\n\u001b[1;32m     <a href='vscode-notebook-cell:/Users/akhilgoel/Desktop/WSC%20Recruitment/Q1/solution/solnAll.ipynb#W5sZmlsZQ%3D%3D?line=15'>16</a>\u001b[0m expected_money \u001b[39m=\u001b[39m money_initial \u001b[39m+\u001b[39m expected_money\u001b[39m/\u001b[39m\u001b[39mpow\u001b[39m(\u001b[39m2\u001b[39m,n)\n",
      "\u001b[0;31mKeyboardInterrupt\u001b[0m: "
     ]
    }
   ],
   "source": [
    "import math\n",
    "from decimal import Decimal\n",
    "\n",
    "money_initial = Decimal(1.0)\n",
    "expected_money = Decimal(0.0)\n",
    "expected_money2 = Decimal(0.0)\n",
    "variance_money = 0.0\n",
    "n = 100000\n",
    "heads = 1.0\n",
    "tails = -0.5\n",
    "\n",
    "for i in range(n+1):\n",
    "    expected_money += ((Decimal(math.comb(n,i)))*(Decimal(i*heads + (n-i)*tails)))\n",
    "    expected_money2 += ((Decimal(math.comb(n,i)))*(Decimal(pow((i*heads + (n-i)*tails), 2))))\n",
    "\n",
    "expected_money = money_initial + expected_money/pow(2,n)\n",
    "print(expected_money)\n",
    "\n",
    "expected_money2 = money_initial + expected_money2/pow(2,n)\n",
    "print(expected_money2)\n",
    "\n",
    "variance_money = expected_money2 - pow(expected_money,2)\n",
    "print(variance_money)"
   ]
  }
 ],
 "metadata": {
  "kernelspec": {
   "display_name": "Python 3.10.5 64-bit",
   "language": "python",
   "name": "python3"
  },
  "language_info": {
   "codemirror_mode": {
    "name": "ipython",
    "version": 3
   },
   "file_extension": ".py",
   "mimetype": "text/x-python",
   "name": "python",
   "nbconvert_exporter": "python",
   "pygments_lexer": "ipython3",
   "version": "3.10.5"
  },
  "orig_nbformat": 4,
  "vscode": {
   "interpreter": {
    "hash": "aee8b7b246df8f9039afb4144a1f6fd8d2ca17a180786b69acc140d282b71a49"
   }
  }
 },
 "nbformat": 4,
 "nbformat_minor": 2
}
