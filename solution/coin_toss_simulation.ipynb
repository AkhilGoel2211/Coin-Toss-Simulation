{
 "cells": [
  {
   "cell_type": "markdown",
   "metadata": {},
   "source": [
    "## Evaluate expected money by conducting Coin Toss Simulations and then finding Expected Money and Variance"
   ]
  },
  {
   "cell_type": "code",
   "execution_count": 21,
   "metadata": {},
   "outputs": [],
   "source": [
    "import math\n",
    "import numpy as np\n",
    "import random\n",
    "import statistics \n",
    "\n",
    "def coin_toss(n1, n2):\n",
    "    initial_money = 1.0\n",
    "    money = initial_money\n",
    "    expectation = 0.0\n",
    "    variance = 0.0\n",
    "    heads = 1.0\n",
    "    tails = -0.5\n",
    "    tosses = n1\n",
    "    num_trials = n2\n",
    "    data_trials = []\n",
    "\n",
    "    for i in range(num_trials):\n",
    "        for j in range(tosses):\n",
    "            coin_toss = random.randint(0,1)\n",
    "            if (coin_toss == 1):\n",
    "                money += heads\n",
    "            else:\n",
    "                money += tails\n",
    "        data_trials.append(money)\n",
    "        money = 1.0\n",
    "    # print(data_trials)\n",
    "\n",
    "    expectation = np.mean(data_trials)\n",
    "    variance = np.var(data_trials)\n",
    "    print(expectation)\n",
    "    print(variance)\n",
    "\n"
   ]
  },
  {
   "cell_type": "code",
   "execution_count": 22,
   "metadata": {},
   "outputs": [
    {
     "name": "stdout",
     "output_type": "stream",
     "text": [
      "3.49451\n",
      "5.6087698599\n"
     ]
    }
   ],
   "source": [
    "coin_toss(10,100000)"
   ]
  },
  {
   "cell_type": "code",
   "execution_count": 23,
   "metadata": {},
   "outputs": [
    {
     "name": "stdout",
     "output_type": "stream",
     "text": [
      "6.006555\n",
      "11.274909531975002\n"
     ]
    }
   ],
   "source": [
    "coin_toss(20,100000)"
   ]
  },
  {
   "cell_type": "code",
   "execution_count": 24,
   "metadata": {},
   "outputs": [
    {
     "name": "stdout",
     "output_type": "stream",
     "text": [
      "126.10605\n",
      "281.7231783975\n"
     ]
    }
   ],
   "source": [
    "coin_toss(500,10000)"
   ]
  },
  {
   "cell_type": "code",
   "execution_count": 25,
   "metadata": {},
   "outputs": [
    {
     "name": "stdout",
     "output_type": "stream",
     "text": [
      "251.4563\n",
      "550.5022403099999\n"
     ]
    }
   ],
   "source": [
    "coin_toss(1000,10000)"
   ]
  },
  {
   "cell_type": "code",
   "execution_count": 26,
   "metadata": {},
   "outputs": [
    {
     "name": "stdout",
     "output_type": "stream",
     "text": [
      "2501.3375\n",
      "5816.98434375\n"
     ]
    }
   ],
   "source": [
    "coin_toss(10000,1000)"
   ]
  },
  {
   "cell_type": "code",
   "execution_count": 27,
   "metadata": {},
   "outputs": [
    {
     "name": "stdout",
     "output_type": "stream",
     "text": [
      "25006.67\n",
      "59156.6661\n"
     ]
    }
   ],
   "source": [
    "coin_toss(100000, 1000)"
   ]
  },
  {
   "cell_type": "markdown",
   "metadata": {},
   "source": [
    "### Observations\n",
    "The Expected amount of money and its variance keeps increasing by factors of 10 as number of simulations increases by factors of 10.\n",
    "The Expectated amount tends towards n/4 while the Variance tends towards 9n/16 (where n is number of simulations)"
   ]
  }
 ],
 "metadata": {
  "kernelspec": {
   "display_name": "Python 3.10.5 64-bit",
   "language": "python",
   "name": "python3"
  },
  "language_info": {
   "codemirror_mode": {
    "name": "ipython",
    "version": 3
   },
   "file_extension": ".py",
   "mimetype": "text/x-python",
   "name": "python",
   "nbconvert_exporter": "python",
   "pygments_lexer": "ipython3",
   "version": "3.10.5"
  },
  "orig_nbformat": 4,
  "vscode": {
   "interpreter": {
    "hash": "aee8b7b246df8f9039afb4144a1f6fd8d2ca17a180786b69acc140d282b71a49"
   }
  }
 },
 "nbformat": 4,
 "nbformat_minor": 2
}
