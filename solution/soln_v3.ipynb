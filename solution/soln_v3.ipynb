{
 "cells": [
  {
   "cell_type": "code",
   "execution_count": 11,
   "metadata": {},
   "outputs": [],
   "source": [
    "import math\n",
    "import numpy as np\n",
    "import random\n",
    "import statistics \n",
    "\n",
    "def coin_toss_v3(n1, n2):\n",
    "    initial_money = 1.0\n",
    "    money = initial_money\n",
    "    expectation = 0.0\n",
    "    variance = 0.0\n",
    "    heads = 1.0\n",
    "    tails = -0.5\n",
    "    tosses = n1\n",
    "    num_trials = n2\n",
    "    data_trials = []\n",
    "\n",
    "    for i in range(num_trials):\n",
    "        for j in range(tosses):\n",
    "            coin_toss = random.randint(0,1)\n",
    "            if (coin_toss == 1):\n",
    "                money += heads\n",
    "            else:\n",
    "                money += tails\n",
    "        data_trials.append(money)\n",
    "        money = 0\n",
    "    # print(data_trials)\n",
    "\n",
    "    expectation = np.mean(data_trials)\n",
    "    variance = np.var(data_trials)\n",
    "    print(expectation)\n",
    "    print(variance)\n",
    "\n"
   ]
  },
  {
   "cell_type": "code",
   "execution_count": 12,
   "metadata": {},
   "outputs": [
    {
     "name": "stdout",
     "output_type": "stream",
     "text": [
      "2.508815\n",
      "5.647229795775002\n"
     ]
    }
   ],
   "source": [
    "coin_toss_v3(10,100000)"
   ]
  },
  {
   "cell_type": "code",
   "execution_count": 13,
   "metadata": {},
   "outputs": [
    {
     "name": "stdout",
     "output_type": "stream",
     "text": [
      "4.99518\n",
      "11.2632467676\n"
     ]
    }
   ],
   "source": [
    "coin_toss_v3(20,100000)"
   ]
  },
  {
   "cell_type": "code",
   "execution_count": 14,
   "metadata": {},
   "outputs": [
    {
     "name": "stdout",
     "output_type": "stream",
     "text": [
      "125.00925\n",
      "281.1765894375\n"
     ]
    }
   ],
   "source": [
    "coin_toss_v3(500,10000)"
   ]
  },
  {
   "cell_type": "code",
   "execution_count": 15,
   "metadata": {},
   "outputs": [
    {
     "name": "stdout",
     "output_type": "stream",
     "text": [
      "249.8465\n",
      "544.93118775\n"
     ]
    }
   ],
   "source": [
    "coin_toss_v3(1000,1000)"
   ]
  },
  {
   "cell_type": "code",
   "execution_count": 16,
   "metadata": {},
   "outputs": [
    {
     "name": "stdout",
     "output_type": "stream",
     "text": [
      "2498.987\n",
      "5615.342331\n"
     ]
    }
   ],
   "source": [
    "coin_toss_v3(10000,1000)"
   ]
  },
  {
   "cell_type": "code",
   "execution_count": 17,
   "metadata": {},
   "outputs": [
    {
     "name": "stdout",
     "output_type": "stream",
     "text": [
      "25023.275\n",
      "67380.826875\n"
     ]
    }
   ],
   "source": [
    "coin_toss_v3(100000, 100)"
   ]
  }
 ],
 "metadata": {
  "kernelspec": {
   "display_name": "Python 3.10.5 64-bit",
   "language": "python",
   "name": "python3"
  },
  "language_info": {
   "codemirror_mode": {
    "name": "ipython",
    "version": 3
   },
   "file_extension": ".py",
   "mimetype": "text/x-python",
   "name": "python",
   "nbconvert_exporter": "python",
   "pygments_lexer": "ipython3",
   "version": "3.10.5"
  },
  "orig_nbformat": 4,
  "vscode": {
   "interpreter": {
    "hash": "aee8b7b246df8f9039afb4144a1f6fd8d2ca17a180786b69acc140d282b71a49"
   }
  }
 },
 "nbformat": 4,
 "nbformat_minor": 2
}
