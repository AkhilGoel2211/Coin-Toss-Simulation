{
 "cells": [
  {
   "cell_type": "code",
   "execution_count": 3,
   "metadata": {},
   "outputs": [],
   "source": [
    "import math\n",
    "from decimal import Decimal\n",
    "\n",
    "def coin_toss_v1(n):\n",
    "    money_initial = Decimal(1.0)\n",
    "    expected_money = Decimal(0.0)\n",
    "    expected_money2 = Decimal(0.0)\n",
    "    variance_money = 0.0\n",
    "    n = n\n",
    "    heads = 1.0\n",
    "    tails = -0.5\n",
    "\n",
    "    for i in range(n+1):\n",
    "        expected_money += ((Decimal(math.comb(n,i)))*(Decimal(i*heads + (n-i)*tails)))\n",
    "        expected_money2 += ((Decimal(math.comb(n,i)))*(Decimal(pow((i*heads + (n-i)*tails), 2))))\n",
    "\n",
    "    expected_money = money_initial + expected_money/pow(2,n)\n",
    "    expected_money2 = money_initial + expected_money2/pow(2,n)\n",
    "    variance_money = expected_money2 - pow(expected_money,2)\n",
    "\n",
    "    print(expected_money)\n",
    "    print(variance_money)"
   ]
  },
  {
   "cell_type": "code",
   "execution_count": 4,
   "metadata": {},
   "outputs": [
    {
     "name": "stdout",
     "output_type": "stream",
     "text": [
      "3.5\n",
      "0.625\n"
     ]
    }
   ],
   "source": [
    "coin_toss_v1(10)"
   ]
  },
  {
   "cell_type": "code",
   "execution_count": 5,
   "metadata": {},
   "outputs": [
    {
     "name": "stdout",
     "output_type": "stream",
     "text": [
      "6.0\n",
      "1.25\n"
     ]
    }
   ],
   "source": [
    "coin_toss_v1(20)"
   ]
  },
  {
   "cell_type": "code",
   "execution_count": 6,
   "metadata": {},
   "outputs": [
    {
     "name": "stdout",
     "output_type": "stream",
     "text": [
      "101.0000000000000000000000001\n",
      "24.99999999999999999999997\n"
     ]
    }
   ],
   "source": [
    "coin_toss_v1(400)"
   ]
  },
  {
   "cell_type": "code",
   "execution_count": 7,
   "metadata": {},
   "outputs": [
    {
     "name": "stdout",
     "output_type": "stream",
     "text": [
      "250.9999999999999999999999998\n",
      "62.50000000000000000000006\n"
     ]
    }
   ],
   "source": [
    "coin_toss_v1(1000)"
   ]
  },
  {
   "cell_type": "code",
   "execution_count": 8,
   "metadata": {},
   "outputs": [
    {
     "name": "stdout",
     "output_type": "stream",
     "text": [
      "2500.999999999999999999999999\n",
      "624.999999999999999999967\n"
     ]
    }
   ],
   "source": [
    "coin_toss_v1(10000)"
   ]
  },
  {
   "cell_type": "code",
   "execution_count": 9,
   "metadata": {},
   "outputs": [
    {
     "ename": "KeyboardInterrupt",
     "evalue": "",
     "output_type": "error",
     "traceback": [
      "\u001b[0;31m---------------------------------------------------------------------------\u001b[0m",
      "\u001b[0;31mKeyboardInterrupt\u001b[0m                         Traceback (most recent call last)",
      "\u001b[1;32m/Users/akhilgoel/Desktop/WSC Recruitment/Q1/solution/soln_v1.ipynb Cell 7\u001b[0m in \u001b[0;36m<cell line: 1>\u001b[0;34m()\u001b[0m\n\u001b[0;32m----> <a href='vscode-notebook-cell:/Users/akhilgoel/Desktop/WSC%20Recruitment/Q1/solution/soln_v1.ipynb#W6sZmlsZQ%3D%3D?line=0'>1</a>\u001b[0m coin_toss_v1(\u001b[39m100000\u001b[39;49m)\n",
      "\u001b[1;32m/Users/akhilgoel/Desktop/WSC Recruitment/Q1/solution/soln_v1.ipynb Cell 7\u001b[0m in \u001b[0;36mcoin_toss_v1\u001b[0;34m(n)\u001b[0m\n\u001b[1;32m     <a href='vscode-notebook-cell:/Users/akhilgoel/Desktop/WSC%20Recruitment/Q1/solution/soln_v1.ipynb#W6sZmlsZQ%3D%3D?line=12'>13</a>\u001b[0m \u001b[39mfor\u001b[39;00m i \u001b[39min\u001b[39;00m \u001b[39mrange\u001b[39m(n\u001b[39m+\u001b[39m\u001b[39m1\u001b[39m):\n\u001b[1;32m     <a href='vscode-notebook-cell:/Users/akhilgoel/Desktop/WSC%20Recruitment/Q1/solution/soln_v1.ipynb#W6sZmlsZQ%3D%3D?line=13'>14</a>\u001b[0m     expected_money \u001b[39m+\u001b[39m\u001b[39m=\u001b[39m ((Decimal(math\u001b[39m.\u001b[39mcomb(n,i)))\u001b[39m*\u001b[39m(Decimal(i\u001b[39m*\u001b[39mheads \u001b[39m+\u001b[39m (n\u001b[39m-\u001b[39mi)\u001b[39m*\u001b[39mtails)))\n\u001b[0;32m---> <a href='vscode-notebook-cell:/Users/akhilgoel/Desktop/WSC%20Recruitment/Q1/solution/soln_v1.ipynb#W6sZmlsZQ%3D%3D?line=14'>15</a>\u001b[0m     expected_money2 \u001b[39m+\u001b[39m\u001b[39m=\u001b[39m ((Decimal(math\u001b[39m.\u001b[39;49mcomb(n,i)))\u001b[39m*\u001b[39m(Decimal(\u001b[39mpow\u001b[39m((i\u001b[39m*\u001b[39mheads \u001b[39m+\u001b[39m (n\u001b[39m-\u001b[39mi)\u001b[39m*\u001b[39mtails), \u001b[39m2\u001b[39m))))\n\u001b[1;32m     <a href='vscode-notebook-cell:/Users/akhilgoel/Desktop/WSC%20Recruitment/Q1/solution/soln_v1.ipynb#W6sZmlsZQ%3D%3D?line=16'>17</a>\u001b[0m expected_money \u001b[39m=\u001b[39m money_initial \u001b[39m+\u001b[39m expected_money\u001b[39m/\u001b[39m\u001b[39mpow\u001b[39m(\u001b[39m2\u001b[39m,n)\n\u001b[1;32m     <a href='vscode-notebook-cell:/Users/akhilgoel/Desktop/WSC%20Recruitment/Q1/solution/soln_v1.ipynb#W6sZmlsZQ%3D%3D?line=17'>18</a>\u001b[0m expected_money2 \u001b[39m=\u001b[39m money_initial \u001b[39m+\u001b[39m expected_money2\u001b[39m/\u001b[39m\u001b[39mpow\u001b[39m(\u001b[39m2\u001b[39m,n)\n",
      "\u001b[0;31mKeyboardInterrupt\u001b[0m: "
     ]
    }
   ],
   "source": [
    "coin_toss_v1(100000)"
   ]
  }
 ],
 "metadata": {
  "kernelspec": {
   "display_name": "Python 3.10.5 64-bit",
   "language": "python",
   "name": "python3"
  },
  "language_info": {
   "codemirror_mode": {
    "name": "ipython",
    "version": 3
   },
   "file_extension": ".py",
   "mimetype": "text/x-python",
   "name": "python",
   "nbconvert_exporter": "python",
   "pygments_lexer": "ipython3",
   "version": "3.10.5"
  },
  "orig_nbformat": 4,
  "vscode": {
   "interpreter": {
    "hash": "aee8b7b246df8f9039afb4144a1f6fd8d2ca17a180786b69acc140d282b71a49"
   }
  }
 },
 "nbformat": 4,
 "nbformat_minor": 2
}
