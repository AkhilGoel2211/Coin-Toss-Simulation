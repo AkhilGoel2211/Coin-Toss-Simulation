{
 "cells": [
  {
   "cell_type": "code",
   "execution_count": 1,
   "metadata": {},
   "outputs": [
    {
     "name": "stdout",
     "output_type": "stream",
     "text": [
      "2500.999999999999999999999999\n",
      "6255625.999999999999999999962\n",
      "624.999999999999999999967\n"
     ]
    }
   ],
   "source": [
    "import math\n",
    "from decimal import Decimal\n",
    "\n",
    "money_initial = Decimal(1.0)\n",
    "expected_money = Decimal(0.0)\n",
    "expected_money2 = Decimal(0.0)\n",
    "variance_money = 0.0\n",
    "n = 10000\n",
    "heads = 1.0\n",
    "tails = -0.5\n",
    "\n",
    "for i in range(n+1):\n",
    "    expected_money += ((Decimal(math.comb(n,i)))*(Decimal(i*heads + (n-i)*tails)))\n",
    "    expected_money2 += ((Decimal(math.comb(n,i)))*(Decimal(pow((i*heads + (n-i)*tails), 2))))\n",
    "\n",
    "expected_money = money_initial + expected_money/pow(2,n)\n",
    "print(expected_money)\n",
    "\n",
    "expected_money2 = money_initial + expected_money2/pow(2,n)\n",
    "print(expected_money2)\n",
    "\n",
    "variance_money = expected_money2 - pow(expected_money,2)\n",
    "print(variance_money)"
   ]
  },
  {
   "cell_type": "code",
   "execution_count": 2,
   "metadata": {},
   "outputs": [
    {
     "name": "stdout",
     "output_type": "stream",
     "text": [
      "2500.0\n",
      "5625.0\n"
     ]
    }
   ],
   "source": [
    "import math\n",
    "\n",
    "money_initial = 1.0\n",
    "expected_money = money_initial\n",
    "expected_money2 = 0.0\n",
    "variance_money = 0.0\n",
    "n = 10000\n",
    "heads = 1.0\n",
    "tails = -0.5\n",
    "\n",
    "expected_money = n/4\n",
    "variance_money = 9*n/16\n",
    "\n",
    "print(expected_money)\n",
    "print(variance_money)"
   ]
  }
 ],
 "metadata": {
  "kernelspec": {
   "display_name": "Python 3.10.5 64-bit",
   "language": "python",
   "name": "python3"
  },
  "language_info": {
   "codemirror_mode": {
    "name": "ipython",
    "version": 3
   },
   "file_extension": ".py",
   "mimetype": "text/x-python",
   "name": "python",
   "nbconvert_exporter": "python",
   "pygments_lexer": "ipython3",
   "version": "3.10.5"
  },
  "orig_nbformat": 4,
  "vscode": {
   "interpreter": {
    "hash": "aee8b7b246df8f9039afb4144a1f6fd8d2ca17a180786b69acc140d282b71a49"
   }
  }
 },
 "nbformat": 4,
 "nbformat_minor": 2
}
